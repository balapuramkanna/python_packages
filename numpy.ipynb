{
  "nbformat": 4,
  "nbformat_minor": 0,
  "metadata": {
    "colab": {
      "provenance": []
    },
    "kernelspec": {
      "name": "python3",
      "display_name": "Python 3"
    },
    "language_info": {
      "name": "python"
    }
  },
  "cells": [
    {
      "cell_type": "markdown",
      "source": [
        "# **Numpy**\n",
        "\n",
        "   - What is NumPy?\n",
        "\n",
        "    - NumPy is a free, open-source library for Python that adds support for large, multi-dimensional arrays and mathematical functions."
      ],
      "metadata": {
        "id": "PaVVAumrmric"
      }
    },
    {
      "cell_type": "code",
      "execution_count": 1,
      "metadata": {
        "id": "gE-_7FwQmmkP",
        "colab": {
          "base_uri": "https://localhost:8080/"
        },
        "outputId": "81c6db4b-b8ba-49e1-b983-bc19665c0a4c"
      },
      "outputs": [
        {
          "output_type": "stream",
          "name": "stdout",
          "text": [
            "Requirement already satisfied: numpy in /usr/local/lib/python3.10/dist-packages (1.26.4)\n"
          ]
        }
      ],
      "source": [
        "# install numpy\n",
        "\n",
        "!pip install numpy"
      ]
    },
    {
      "cell_type": "code",
      "source": [
        "# how to import numpy\n",
        "\n",
        "import numpy as np"
      ],
      "metadata": {
        "id": "fX6r1_E-pcim"
      },
      "execution_count": 2,
      "outputs": []
    },
    {
      "cell_type": "code",
      "source": [
        "arr = np.array([1,2,3,4,5])\n",
        "\n",
        "print(arr)"
      ],
      "metadata": {
        "colab": {
          "base_uri": "https://localhost:8080/"
        },
        "id": "8eM0jEerpupv",
        "outputId": "664ddc4f-1ffc-4984-de79-01495fa88adb"
      },
      "execution_count": 3,
      "outputs": [
        {
          "output_type": "stream",
          "name": "stdout",
          "text": [
            "[1 2 3 4 5]\n"
          ]
        }
      ]
    },
    {
      "cell_type": "code",
      "source": [
        "# creating numpy in (0D)\n",
        "\n",
        "arr = np.array(54)\n",
        "\n",
        "print(arr)"
      ],
      "metadata": {
        "colab": {
          "base_uri": "https://localhost:8080/"
        },
        "id": "emtw7jtyqGn9",
        "outputId": "79993752-0a7e-4e6b-f260-6f52ead6ce59"
      },
      "execution_count": 4,
      "outputs": [
        {
          "output_type": "stream",
          "name": "stdout",
          "text": [
            "54\n"
          ]
        }
      ]
    },
    {
      "cell_type": "code",
      "source": [
        "# creating numpy in (1D)\n",
        "\n",
        "arr = np.array([1,2,3,4,6,7])\n",
        "\n",
        "print(arr)"
      ],
      "metadata": {
        "colab": {
          "base_uri": "https://localhost:8080/"
        },
        "id": "o-BFtrjHqjbb",
        "outputId": "b77a9494-2582-4299-9ec8-8dacae819973"
      },
      "execution_count": 5,
      "outputs": [
        {
          "output_type": "stream",
          "name": "stdout",
          "text": [
            "[1 2 3 4 6 7]\n"
          ]
        }
      ]
    },
    {
      "cell_type": "code",
      "source": [
        "# creating numpy in (2D)\n",
        "\n",
        "arr = np.array([[1,3,5],\n",
        "                [4,5,7]])\n",
        "\n",
        "print(arr)"
      ],
      "metadata": {
        "colab": {
          "base_uri": "https://localhost:8080/"
        },
        "id": "1IRJruXarFf8",
        "outputId": "ad0d007e-b117-4be0-d99a-8ec9d1d8a3ad"
      },
      "execution_count": 7,
      "outputs": [
        {
          "output_type": "stream",
          "name": "stdout",
          "text": [
            "[[1 3 5]\n",
            " [4 5 7]]\n"
          ]
        }
      ]
    },
    {
      "cell_type": "code",
      "source": [
        "# credating numpy in (3D)\n",
        "\n",
        "arr = np.array([[[13,54,76],\n",
        "                 [21,54,56],\n",
        "                  [12,43,67]]])\n",
        "print(arr)"
      ],
      "metadata": {
        "colab": {
          "base_uri": "https://localhost:8080/"
        },
        "id": "Qy2XD0q8rdyG",
        "outputId": "e6ad9941-1ab6-4550-93e6-435fd75044a0"
      },
      "execution_count": 9,
      "outputs": [
        {
          "output_type": "stream",
          "name": "stdout",
          "text": [
            "[[[13 54 76]\n",
            "  [21 54 56]\n",
            "  [12 43 67]]]\n"
          ]
        }
      ]
    },
    {
      "cell_type": "code",
      "source": [
        "# creating numpy in (4D)\n",
        "\n",
        "arr = np.array([[[[21,23,57],\n",
        "                  [12,34,56],\n",
        "                  [23,66,77]]]])\n",
        "\n",
        "print(arr)"
      ],
      "metadata": {
        "colab": {
          "base_uri": "https://localhost:8080/"
        },
        "id": "7QIt16dAsGpP",
        "outputId": "ed23cf32-b5fe-4ab9-e662-74114e082ea8"
      },
      "execution_count": 10,
      "outputs": [
        {
          "output_type": "stream",
          "name": "stdout",
          "text": [
            "[[[[21 23 57]\n",
            "   [12 34 56]\n",
            "   [23 66 77]]]]\n"
          ]
        }
      ]
    },
    {
      "cell_type": "code",
      "source": [
        "# creating numpy in (5D)\n",
        "\n",
        "arr = np.array([[[[[32,54,43],\n",
        "                   [12,34,67],\n",
        "                   [12,45,67]]]]])\n",
        "\n",
        "print(arr)"
      ],
      "metadata": {
        "colab": {
          "base_uri": "https://localhost:8080/"
        },
        "id": "20AhlpOXsfo5",
        "outputId": "ceaca7b9-c4f9-4247-e1f2-e458fa931888"
      },
      "execution_count": 11,
      "outputs": [
        {
          "output_type": "stream",
          "name": "stdout",
          "text": [
            "[[[[[32 54 43]\n",
            "    [12 34 67]\n",
            "    [12 45 67]]]]]\n"
          ]
        }
      ]
    },
    {
      "cell_type": "markdown",
      "source": [
        "# **Initial place holders**"
      ],
      "metadata": {
        "id": "2F85hXdbtnX7"
      }
    },
    {
      "cell_type": "code",
      "source": [
        "# creating intial place holder with zeros\n",
        "\n",
        "arr = np.zeros([4,3,3])\n",
        "\n",
        "print(arr)"
      ],
      "metadata": {
        "colab": {
          "base_uri": "https://localhost:8080/"
        },
        "id": "MYAR4F7PtWHQ",
        "outputId": "7ebed6c6-dee5-47a1-add1-e23f79021875"
      },
      "execution_count": 14,
      "outputs": [
        {
          "output_type": "stream",
          "name": "stdout",
          "text": [
            "[[[0. 0. 0.]\n",
            "  [0. 0. 0.]\n",
            "  [0. 0. 0.]]\n",
            "\n",
            " [[0. 0. 0.]\n",
            "  [0. 0. 0.]\n",
            "  [0. 0. 0.]]\n",
            "\n",
            " [[0. 0. 0.]\n",
            "  [0. 0. 0.]\n",
            "  [0. 0. 0.]]\n",
            "\n",
            " [[0. 0. 0.]\n",
            "  [0. 0. 0.]\n",
            "  [0. 0. 0.]]]\n"
          ]
        }
      ]
    },
    {
      "cell_type": "code",
      "source": [
        "# creating intial place holders with ones\n",
        "import numpy as np\n",
        "arr = np.ones([3,4,3])\n",
        "\n",
        "print(arr)"
      ],
      "metadata": {
        "colab": {
          "base_uri": "https://localhost:8080/"
        },
        "id": "dA0BJL7buP40",
        "outputId": "bb9d016d-286a-4c1d-84b9-b4554ac1b341"
      },
      "execution_count": 4,
      "outputs": [
        {
          "output_type": "stream",
          "name": "stdout",
          "text": [
            "[[[1. 1. 1.]\n",
            "  [1. 1. 1.]\n",
            "  [1. 1. 1.]\n",
            "  [1. 1. 1.]]\n",
            "\n",
            " [[1. 1. 1.]\n",
            "  [1. 1. 1.]\n",
            "  [1. 1. 1.]\n",
            "  [1. 1. 1.]]\n",
            "\n",
            " [[1. 1. 1.]\n",
            "  [1. 1. 1.]\n",
            "  [1. 1. 1.]\n",
            "  [1. 1. 1.]]]\n"
          ]
        }
      ]
    },
    {
      "cell_type": "code",
      "source": [
        "# creating an array of evely space value (step value)\n",
        "# steps = n-1 (n=3)\n",
        "\n",
        "arr = np.arange(1,50,3)\n",
        "print(arr)"
      ],
      "metadata": {
        "colab": {
          "base_uri": "https://localhost:8080/"
        },
        "id": "qGO9K3a2uyN2",
        "outputId": "545f9914-0437-431f-d0c5-0b70b6209647"
      },
      "execution_count": 17,
      "outputs": [
        {
          "output_type": "stream",
          "name": "stdout",
          "text": [
            "[ 1  4  7 10 13 16 19 22 25 28 31 34 37 40 43 46 49]\n"
          ]
        }
      ]
    },
    {
      "cell_type": "code",
      "source": [
        "# n-1(n=4)\n",
        "\n",
        "c = np.arange(1,40,4)\n",
        "\n",
        "print(c)"
      ],
      "metadata": {
        "colab": {
          "base_uri": "https://localhost:8080/"
        },
        "id": "_wIp7TyvvZ_I",
        "outputId": "3b9efcf3-35c6-4cd8-938d-ec2f66573ff1"
      },
      "execution_count": 5,
      "outputs": [
        {
          "output_type": "stream",
          "name": "stdout",
          "text": [
            "[ 1  5  9 13 17 21 25 29 33 37]\n"
          ]
        }
      ]
    },
    {
      "cell_type": "code",
      "source": [
        "# exmalpes\n",
        "\n",
        "a = np.array([[[2,4,6],[4,7,9],\n",
        "               [2,4,6],[4,8,3],\n",
        "               [9,5,7],[3,9,1]]])\n",
        "\n",
        "print(a)"
      ],
      "metadata": {
        "colab": {
          "base_uri": "https://localhost:8080/"
        },
        "id": "ZwxH8hpEAxlh",
        "outputId": "839ef765-04ca-49a4-b0ca-7e9958b89e4c"
      },
      "execution_count": 7,
      "outputs": [
        {
          "output_type": "stream",
          "name": "stdout",
          "text": [
            "[[[2 4 6]\n",
            "  [4 7 9]\n",
            "  [2 4 6]\n",
            "  [4 8 3]\n",
            "  [9 5 7]\n",
            "  [3 9 1]]]\n"
          ]
        }
      ]
    },
    {
      "cell_type": "code",
      "source": [
        "b = np.array([[23,5,45],[6,9,23],\n",
        "              [45,7,3],[65,3,87],\n",
        "              [34,67,5],[56,5,4]])\n",
        "\n",
        "print(b)"
      ],
      "metadata": {
        "colab": {
          "base_uri": "https://localhost:8080/"
        },
        "id": "f2vpsQTxCW6_",
        "outputId": "e09525e4-6516-4eaf-a6ca-33740b1f9fc7"
      },
      "execution_count": 8,
      "outputs": [
        {
          "output_type": "stream",
          "name": "stdout",
          "text": [
            "[[23  5 45]\n",
            " [ 6  9 23]\n",
            " [45  7  3]\n",
            " [65  3 87]\n",
            " [34 67  5]\n",
            " [56  5  4]]\n"
          ]
        }
      ]
    },
    {
      "cell_type": "code",
      "source": [
        "import numpy as np"
      ],
      "metadata": {
        "id": "s7wA_jIqCWr9"
      },
      "execution_count": 9,
      "outputs": []
    },
    {
      "cell_type": "code",
      "source": [
        "!pip install numpy"
      ],
      "metadata": {
        "colab": {
          "base_uri": "https://localhost:8080/"
        },
        "id": "KkXBKy8ECWeX",
        "outputId": "c22b6617-8826-4310-8a47-b31329aea629"
      },
      "execution_count": 10,
      "outputs": [
        {
          "output_type": "stream",
          "name": "stdout",
          "text": [
            "Requirement already satisfied: numpy in /usr/local/lib/python3.10/dist-packages (1.26.4)\n"
          ]
        }
      ]
    },
    {
      "cell_type": "code",
      "source": [
        "# creating constant array\n",
        "# 1D\n",
        "r = np.full((2),12)  # coloums\n",
        "print(r)\n",
        "print(r.ndim)"
      ],
      "metadata": {
        "colab": {
          "base_uri": "https://localhost:8080/"
        },
        "id": "YYuI9Zl5DEFN",
        "outputId": "6cc5c138-3fa9-43f8-dc13-1a1d22184052"
      },
      "execution_count": 12,
      "outputs": [
        {
          "output_type": "stream",
          "name": "stdout",
          "text": [
            "[12 12]\n",
            "1\n"
          ]
        }
      ]
    },
    {
      "cell_type": "code",
      "source": [
        "# 2D\n",
        "a = np.full((5,4),2)\n",
        "print(a)\n",
        "print(a.ndim,\"no of dimesions\")"
      ],
      "metadata": {
        "colab": {
          "base_uri": "https://localhost:8080/"
        },
        "id": "oxbfDWlwDEBj",
        "outputId": "f22f0b2d-66bc-4e5a-c0d5-70a1bd4cd0d8"
      },
      "execution_count": 16,
      "outputs": [
        {
          "output_type": "stream",
          "name": "stdout",
          "text": [
            "[[2 2 2 2]\n",
            " [2 2 2 2]\n",
            " [2 2 2 2]\n",
            " [2 2 2 2]\n",
            " [2 2 2 2]]\n",
            "2 no of dimesions\n"
          ]
        }
      ]
    },
    {
      "cell_type": "code",
      "source": [
        "# 3D\n",
        "\n",
        "m = np.full((2,5,4),3)\n",
        "print(m)\n",
        "print(a.ndim)"
      ],
      "metadata": {
        "colab": {
          "base_uri": "https://localhost:8080/"
        },
        "id": "JnFM7hbVDD-n",
        "outputId": "c0b4b7d6-68f1-42e8-8e72-0c1d571ae366"
      },
      "execution_count": 17,
      "outputs": [
        {
          "output_type": "stream",
          "name": "stdout",
          "text": [
            "[[[3 3 3 3]\n",
            "  [3 3 3 3]\n",
            "  [3 3 3 3]\n",
            "  [3 3 3 3]\n",
            "  [3 3 3 3]]\n",
            "\n",
            " [[3 3 3 3]\n",
            "  [3 3 3 3]\n",
            "  [3 3 3 3]\n",
            "  [3 3 3 3]\n",
            "  [3 3 3 3]]]\n",
            "2\n"
          ]
        }
      ]
    },
    {
      "cell_type": "markdown",
      "source": [
        "# **Identity matrix**"
      ],
      "metadata": {
        "id": "dJYEKFJQEpUa"
      }
    },
    {
      "cell_type": "code",
      "source": [
        "# creating identity matrix\n",
        "r = np.eye(7)\n",
        "print(r)"
      ],
      "metadata": {
        "colab": {
          "base_uri": "https://localhost:8080/"
        },
        "id": "IkNi3GHiEo2t",
        "outputId": "1ccd363c-6f82-4b81-9b1f-7e85f52184a0"
      },
      "execution_count": 19,
      "outputs": [
        {
          "output_type": "stream",
          "name": "stdout",
          "text": [
            "[[1. 0. 0. 0. 0. 0. 0.]\n",
            " [0. 1. 0. 0. 0. 0. 0.]\n",
            " [0. 0. 1. 0. 0. 0. 0.]\n",
            " [0. 0. 0. 1. 0. 0. 0.]\n",
            " [0. 0. 0. 0. 1. 0. 0.]\n",
            " [0. 0. 0. 0. 0. 1. 0.]\n",
            " [0. 0. 0. 0. 0. 0. 1.]]\n"
          ]
        }
      ]
    },
    {
      "cell_type": "code",
      "source": [
        "# creating an array with random values\n",
        "\n",
        "np.random.random((1,20))"
      ],
      "metadata": {
        "colab": {
          "base_uri": "https://localhost:8080/"
        },
        "id": "NaiXwFc1DD8K",
        "outputId": "c3711a3c-dcf3-4b6f-d06e-f024ddb2b097"
      },
      "execution_count": 26,
      "outputs": [
        {
          "output_type": "execute_result",
          "data": {
            "text/plain": [
              "array([[0.16805504, 0.00594626, 0.66987751, 0.89377256, 0.83075825,\n",
              "        0.55713854, 0.94109412, 0.51763621, 0.3821741 , 0.69654538,\n",
              "        0.28207515, 0.08345453, 0.4337834 , 0.39761702, 0.99083468,\n",
              "        0.5692339 , 0.13316863, 0.74326778, 0.93043733, 0.75061459]])"
            ]
          },
          "metadata": {},
          "execution_count": 26
        }
      ]
    },
    {
      "cell_type": "code",
      "source": [
        "# creating an array with random integer values\n",
        "np.random.randint(2,56)"
      ],
      "metadata": {
        "colab": {
          "base_uri": "https://localhost:8080/"
        },
        "id": "V302aygXFdTS",
        "outputId": "c34b5f45-d119-4692-933b-bd7c7a2f546e"
      },
      "execution_count": 29,
      "outputs": [
        {
          "output_type": "execute_result",
          "data": {
            "text/plain": [
              "9"
            ]
          },
          "metadata": {},
          "execution_count": 29
        }
      ]
    },
    {
      "cell_type": "markdown",
      "source": [
        "# **Array Attributes**\n",
        "\n",
        "  - In NumPy, attributes are properties of NumPy arrays that provide information about the array's shape, size, data type, dimension, and so on."
      ],
      "metadata": {
        "id": "6zJZOaqIF-6m"
      }
    },
    {
      "cell_type": "code",
      "source": [
        "# to find no.of dimensions\n",
        "\n",
        "a = np.array([[2,4,8],\n",
        "              [5,9,6],\n",
        "              [5,8,2]])\n",
        "\n",
        "print(a.ndim)"
      ],
      "metadata": {
        "colab": {
          "base_uri": "https://localhost:8080/"
        },
        "id": "B8QOazhqFwGK",
        "outputId": "9b9766e4-a7fe-4b4e-cf6e-0955c356454e"
      },
      "execution_count": 30,
      "outputs": [
        {
          "output_type": "stream",
          "name": "stdout",
          "text": [
            "2\n"
          ]
        }
      ]
    },
    {
      "cell_type": "code",
      "source": [
        "# to find shape of an array (no.of elements in matrix)\n",
        "a = np.array([[[2,4,6],[4,7,9],\n",
        "               [2,4,6],[4,8,3],\n",
        "               [9,5,7],[3,9,1]]])\n",
        "print(a.shape)\n"
      ],
      "metadata": {
        "colab": {
          "base_uri": "https://localhost:8080/"
        },
        "id": "R5xAP7kAHVde",
        "outputId": "864c82a0-f991-48b8-dc47-53262a6edeae"
      },
      "execution_count": 32,
      "outputs": [
        {
          "output_type": "stream",
          "name": "stdout",
          "text": [
            "(1, 6, 3)\n"
          ]
        }
      ]
    },
    {
      "cell_type": "code",
      "source": [
        "# to find the size of array (r&c)\n",
        "a = np.array([[[2,4,6],[4,7,9],\n",
        "               [2,4,6],[4,8,3],\n",
        "               [9,5,7],[3,9,1]]])\n",
        "print(a.size)\n"
      ],
      "metadata": {
        "colab": {
          "base_uri": "https://localhost:8080/"
        },
        "id": "05NGIUdoHVaC",
        "outputId": "e63a0e4d-e5a7-4146-f0d2-56ec96b0f8dc"
      },
      "execution_count": 34,
      "outputs": [
        {
          "output_type": "stream",
          "name": "stdout",
          "text": [
            "18\n"
          ]
        }
      ]
    },
    {
      "cell_type": "code",
      "source": [
        "# to find len of matrix (no of rows)\n",
        "\n",
        "arr = np.array([[32,56,23],\n",
        "                [43,56,32],\n",
        "                [54,34,25]])\n",
        "\n",
        "print(len(arr))"
      ],
      "metadata": {
        "colab": {
          "base_uri": "https://localhost:8080/"
        },
        "id": "xwzE1FXHHVXj",
        "outputId": "563c1368-334e-48d8-b195-c8e556ce93d7"
      },
      "execution_count": 35,
      "outputs": [
        {
          "output_type": "stream",
          "name": "stdout",
          "text": [
            "3\n"
          ]
        }
      ]
    },
    {
      "cell_type": "code",
      "source": [
        "# to know the data type\n",
        "\n",
        "a.dtype"
      ],
      "metadata": {
        "colab": {
          "base_uri": "https://localhost:8080/"
        },
        "id": "xzNTDlTGHVUX",
        "outputId": "57fec75a-52c9-4348-c3dd-09cfec41ef41"
      },
      "execution_count": 36,
      "outputs": [
        {
          "output_type": "execute_result",
          "data": {
            "text/plain": [
              "dtype('int64')"
            ]
          },
          "metadata": {},
          "execution_count": 36
        }
      ]
    },
    {
      "cell_type": "markdown",
      "source": [
        "# **numpy array indexind**\n",
        "\n",
        "  - NumPy indexing is used for accessing an element from an array by giving it an index value that starts from 0."
      ],
      "metadata": {
        "id": "R79zqk_FJBCg"
      }
    },
    {
      "cell_type": "code",
      "source": [
        "# access of array elements\n",
        "# 1D\n",
        "a = np.array([4,4,7,1,7,9,578])\n",
        "print(a[5])"
      ],
      "metadata": {
        "colab": {
          "base_uri": "https://localhost:8080/"
        },
        "id": "17jZpGBmJYtk",
        "outputId": "b17b677f-0c08-43c9-e29b-8fdafbcf7cc9"
      },
      "execution_count": 37,
      "outputs": [
        {
          "output_type": "stream",
          "name": "stdout",
          "text": [
            "9\n"
          ]
        }
      ]
    },
    {
      "cell_type": "code",
      "source": [
        "# Access 2D arrays\n",
        "arr = np.array([[32,56,23],\n",
        "                [43,56,32],\n",
        "                [54,34,25]])\n",
        "\n",
        "print(arr[2,1])\n",
        "print(arr[1,2])"
      ],
      "metadata": {
        "colab": {
          "base_uri": "https://localhost:8080/"
        },
        "id": "6aQSVb1dKbc2",
        "outputId": "057c3c82-0e6d-437b-af25-beaccc580c4b"
      },
      "execution_count": 40,
      "outputs": [
        {
          "output_type": "stream",
          "name": "stdout",
          "text": [
            "34\n",
            "32\n"
          ]
        }
      ]
    },
    {
      "cell_type": "code",
      "source": [
        "# access 3D arrays\n",
        "\n",
        "arr = np.array([[[2,4,6],[4,7,9]],\n",
        "              [[2,4,6],[4,8,3]],\n",
        "               [[9,5,7],[3,9,1]]])\n",
        "print(arr[2,1,1])\n",
        "\n"
      ],
      "metadata": {
        "colab": {
          "base_uri": "https://localhost:8080/"
        },
        "id": "5VKriQd-KbaJ",
        "outputId": "7bbe7959-b46e-4789-d90f-fc19c5c12fb9"
      },
      "execution_count": 50,
      "outputs": [
        {
          "output_type": "stream",
          "name": "stdout",
          "text": [
            "9\n"
          ]
        }
      ]
    },
    {
      "cell_type": "code",
      "source": [],
      "metadata": {
        "id": "evt-tGwYKbXN"
      },
      "execution_count": null,
      "outputs": []
    },
    {
      "cell_type": "markdown",
      "source": [
        "# **Data types in numpy**\n",
        "\n",
        "\n",
        "   - NumPy has some extra data types, and refer to data types with one character, like i for integers, u for unsigned integers etc.\n",
        "\n",
        "   - Below is a list of all data types in NumPy and the characters used to represent them.\n",
        "\n",
        "     - i - integer\n",
        "     - b - boolean\n",
        "     - u - unsigned integer\n",
        "     - f - float\n",
        "     - c - complex float\n",
        "     - m - timedelta\n",
        "     - M - datetime\n",
        "     - O - object\n",
        "     - S - string\n",
        "     - U - unicode string\n",
        "     - V - fixed chunk of memory for other type ( void )\n",
        "\n"
      ],
      "metadata": {
        "id": "5pfHxD9AJ8iu"
      }
    },
    {
      "cell_type": "code",
      "source": [
        "# integer\n",
        "\n",
        "arr = np.array([2,4,7,9],dtype='i')\n",
        "\n",
        "print(arr)\n",
        "print(arr.dtype)"
      ],
      "metadata": {
        "colab": {
          "base_uri": "https://localhost:8080/"
        },
        "id": "EepwKyL9MvCY",
        "outputId": "77891dc3-813f-40c2-b888-f2f76e7ff764"
      },
      "execution_count": 52,
      "outputs": [
        {
          "output_type": "stream",
          "name": "stdout",
          "text": [
            "[2 4 7 9]\n",
            "int32\n"
          ]
        }
      ]
    },
    {
      "cell_type": "code",
      "source": [
        "# string\n",
        "\n",
        "arr = np.array([2,4,7,9],dtype='S')\n",
        "\n",
        "print(arr)\n",
        "print(arr.dtype)"
      ],
      "metadata": {
        "colab": {
          "base_uri": "https://localhost:8080/"
        },
        "id": "ZH9D3Y58NP-T",
        "outputId": "ba6a75c5-0179-4708-ceba-734bade41a33"
      },
      "execution_count": 54,
      "outputs": [
        {
          "output_type": "stream",
          "name": "stdout",
          "text": [
            "[b'2' b'4' b'7' b'9']\n",
            "|S1\n"
          ]
        }
      ]
    },
    {
      "cell_type": "markdown",
      "source": [
        "# **converting data type on existing arrays in numpy**\n",
        "\n",
        "   - The astype() function creates a copy of the array, and allows you to specify the data type as a parameter.\n",
        "\n",
        "   -  The data type can be specified using a string, like 'f' for float, 'i' for integer etc.\n",
        "\n",
        "   - or you can use the data type directly like float for float and int for integer."
      ],
      "metadata": {
        "id": "hSCI_dsrNhtY"
      }
    },
    {
      "cell_type": "code",
      "source": [
        "# change data type from float to int by using 'i' as parameter.\n",
        "import numpy as np\n",
        "\n",
        "fl = np.array([1.2, 5.6, 6.1, 7.8])\n",
        "\n",
        "i = fl.astype('i')\n",
        "\n",
        "print(i)\n",
        "print(i.dtype)"
      ],
      "metadata": {
        "colab": {
          "base_uri": "https://localhost:8080/"
        },
        "id": "9NaCKOdTOazQ",
        "outputId": "e50db500-46ed-486b-c77b-7dedf2157539"
      },
      "execution_count": 58,
      "outputs": [
        {
          "output_type": "stream",
          "name": "stdout",
          "text": [
            "[1 5 6 7]\n",
            "int32\n"
          ]
        }
      ]
    },
    {
      "cell_type": "code",
      "source": [
        "# int to bool\n",
        "i = np.array([-43,34,78,0,32,-3,2+2j,0])\n",
        "\n",
        "b = i.astype(bool)\n",
        "\n",
        "print(b)\n",
        "print(b.dtype)"
      ],
      "metadata": {
        "colab": {
          "base_uri": "https://localhost:8080/"
        },
        "id": "Zs4_JMO5OeoF",
        "outputId": "0c7e2de4-5aa0-4e87-c80d-698cd9344602"
      },
      "execution_count": 61,
      "outputs": [
        {
          "output_type": "stream",
          "name": "stdout",
          "text": [
            "[ True  True  True False  True  True  True False]\n",
            "bool\n"
          ]
        }
      ]
    },
    {
      "cell_type": "code",
      "source": [
        "# int to float\n",
        "\n",
        "i = np.array([2,4,67,8,3,78,674,34,98])\n",
        "\n",
        "f = i.astype('f')\n",
        "\n",
        "print(f)\n",
        "print(f.dtype)\n"
      ],
      "metadata": {
        "colab": {
          "base_uri": "https://localhost:8080/"
        },
        "id": "w5NERQyMObhm",
        "outputId": "69330a60-5d1a-485f-e74d-178f667f8432"
      },
      "execution_count": 62,
      "outputs": [
        {
          "output_type": "stream",
          "name": "stdout",
          "text": [
            "[  2.   4.  67.   8.   3.  78. 674.  34.  98.]\n",
            "float32\n"
          ]
        }
      ]
    },
    {
      "cell_type": "markdown",
      "source": [
        "# numpy array copy vs view.\n",
        "\n",
        "   - The main difference between a copy and a view of an array is that the copy is a new array, and the view is just a view of the original array.\n",
        "\n",
        "   - The copy owns the data and any changes made to the copy will not affect original array, and any changes made to the original array will not affect the copy.\n",
        "\n",
        "   - The view does not own the data and any changes made to the view will affect the original array, and any changes made to the original array will affect the view.\n",
        "\n"
      ],
      "metadata": {
        "id": "a69JL08OQ7fC"
      }
    },
    {
      "cell_type": "code",
      "source": [
        "import numpy as np\n",
        "\n",
        "#The copy should not be affected by the changes made to the original array.\n",
        "\n",
        "arr = np.array([1, 2, 3, 4, 5])\n",
        "x = arr.copy()\n",
        "arr[0] = 54\n",
        "\n",
        "print(arr)\n",
        "print(x)"
      ],
      "metadata": {
        "colab": {
          "base_uri": "https://localhost:8080/"
        },
        "id": "Cq88uPbfObeN",
        "outputId": "f45e9a7f-14d7-4486-859c-78b41f320871"
      },
      "execution_count": 63,
      "outputs": [
        {
          "output_type": "stream",
          "name": "stdout",
          "text": [
            "[54  2  3  4  5]\n",
            "[1 2 3 4 5]\n"
          ]
        }
      ]
    },
    {
      "cell_type": "code",
      "source": [
        "# shape\n",
        "a = np.array([[3,4,5],\n",
        "              [5,7,8],\n",
        "              [8,9,3]])\n",
        "print(a.shape)"
      ],
      "metadata": {
        "colab": {
          "base_uri": "https://localhost:8080/"
        },
        "id": "8eQvsoQbObb6",
        "outputId": "55a089a9-0820-4880-aaea-d3f71e28fe1b"
      },
      "execution_count": 64,
      "outputs": [
        {
          "output_type": "stream",
          "name": "stdout",
          "text": [
            "(3, 3)\n"
          ]
        }
      ]
    },
    {
      "cell_type": "markdown",
      "source": [
        "# Reshaping array\n",
        "\n",
        "   - Using arr.reshape() will give a new shape to an array without changing the data.\n",
        "   -  the reshape method, the array we want to produce needs to have the same number of elements as the original array."
      ],
      "metadata": {
        "id": "Dcer1nSlSBGC"
      }
    },
    {
      "cell_type": "code",
      "source": [
        "a=np.arange(10)\n",
        "print(a)\n",
        "\n",
        "#Convert the following 1-D array with 12 elements into a 2-D array.\n",
        "arr = np.array([1, 2, 3, 4, 5, 6, 7, 11, 9, 10, 11, 12, 13, 14])\n",
        "\n",
        "newarr = arr.reshape(7, 2)\n",
        "\n",
        "print(newarr)"
      ],
      "metadata": {
        "colab": {
          "base_uri": "https://localhost:8080/"
        },
        "id": "7sBTJhB-ObZb",
        "outputId": "92b0da8a-48c8-4fac-f453-00c00e890b96"
      },
      "execution_count": 65,
      "outputs": [
        {
          "output_type": "stream",
          "name": "stdout",
          "text": [
            "[0 1 2 3 4 5 6 7 8 9]\n",
            "[[ 1  2]\n",
            " [ 3  4]\n",
            " [ 5  6]\n",
            " [ 7 11]\n",
            " [ 9 10]\n",
            " [11 12]\n",
            " [13 14]]\n"
          ]
        }
      ]
    },
    {
      "cell_type": "code",
      "source": [
        "#Convert the following 1-D array with 12 elements into a 3-D arrray\n",
        "\n",
        "arr = np.array([1, 2, 3, 4, 5, 6, 7, 8, 9, 10, 11, 12])\n",
        "\n",
        "newarr = arr.reshape(2, 2, 3)\n",
        "\n",
        "print(newarr)"
      ],
      "metadata": {
        "colab": {
          "base_uri": "https://localhost:8080/"
        },
        "id": "t4OIIiw_ObWf",
        "outputId": "cab37326-1e66-471b-e6d8-2dfa62536022"
      },
      "execution_count": 66,
      "outputs": [
        {
          "output_type": "stream",
          "name": "stdout",
          "text": [
            "[[[ 1  2  3]\n",
            "  [ 4  5  6]]\n",
            "\n",
            " [[ 7  8  9]\n",
            "  [10 11 12]]]\n"
          ]
        }
      ]
    },
    {
      "cell_type": "code",
      "source": [
        "#Convert the following 2-D array with 12 elements into a 1-D arrray\n",
        "\n",
        "arr = np.array([[1, 2, 3, 4],\n",
        "    [5, 6, 7, 8],[ 9, 10, 11, 12]])\n",
        "\n",
        "newarr = arr.reshape(12)\n",
        "\n",
        "print(newarr)"
      ],
      "metadata": {
        "colab": {
          "base_uri": "https://localhost:8080/"
        },
        "id": "KBKB1hRYObTk",
        "outputId": "14bbd1d5-ac2c-475b-d6d3-99e38d9845b6"
      },
      "execution_count": 67,
      "outputs": [
        {
          "output_type": "stream",
          "name": "stdout",
          "text": [
            "[ 1  2  3  4  5  6  7  8  9 10 11 12]\n"
          ]
        }
      ]
    },
    {
      "cell_type": "code",
      "source": [
        "#Convert the following 2-D array with 12 elements into a 3-D arrray\n",
        "\n",
        "arr = np.array([[1, 2, 3, 4],\n",
        "    [5, 6, 7, 8],[ 9, 10, 11, 12]])\n",
        "\n",
        "newarr = arr.reshape(1,4,3)\n",
        "\n",
        "print(newarr)"
      ],
      "metadata": {
        "colab": {
          "base_uri": "https://localhost:8080/"
        },
        "id": "5HYNxNnDSoFa",
        "outputId": "4e58ad4a-4845-47d3-a8c0-7c708cdfe507"
      },
      "execution_count": 68,
      "outputs": [
        {
          "output_type": "stream",
          "name": "stdout",
          "text": [
            "[[[ 1  2  3]\n",
            "  [ 4  5  6]\n",
            "  [ 7  8  9]\n",
            "  [10 11 12]]]\n"
          ]
        }
      ]
    },
    {
      "cell_type": "code",
      "source": [
        "#Convert the following 3-D array with 12 elements into a 2-D arrray\n",
        "arr = np.array([[[1, 2, 3, 4]],\n",
        "    [[5, 6, 7, 8]],[[ 9, 10, 11, 12]]])\n",
        "\n",
        "newarr = arr.reshape(3,4)\n",
        "\n",
        "print(newarr)"
      ],
      "metadata": {
        "colab": {
          "base_uri": "https://localhost:8080/"
        },
        "id": "B1UA-VX6SoCG",
        "outputId": "f38b9309-6fca-4257-8a0e-d500695f1e28"
      },
      "execution_count": 69,
      "outputs": [
        {
          "output_type": "stream",
          "name": "stdout",
          "text": [
            "[[ 1  2  3  4]\n",
            " [ 5  6  7  8]\n",
            " [ 9 10 11 12]]\n"
          ]
        }
      ]
    },
    {
      "cell_type": "code",
      "source": [
        "#Convert the following 3-D array with 12 elements into a 1-D arrray\n",
        "arr = np.array([[[1, 2, 3, 4]],\n",
        "    [[5, 6, 7, 8]],[[ 9, 10, 11, 12]]])\n",
        "\n",
        "newarr = arr.reshape(12)\n",
        "\n",
        "print(newarr)"
      ],
      "metadata": {
        "colab": {
          "base_uri": "https://localhost:8080/"
        },
        "id": "80czac_dSn_K",
        "outputId": "993ff596-5dfa-4142-a3fd-ea980ac6b6c8"
      },
      "execution_count": 70,
      "outputs": [
        {
          "output_type": "stream",
          "name": "stdout",
          "text": [
            "[ 1  2  3  4  5  6  7  8  9 10 11 12]\n"
          ]
        }
      ]
    },
    {
      "cell_type": "code",
      "source": [
        "\n",
        "\n",
        "# Python Program to create\n",
        "# a data type object\n",
        "x = np.array([[5,2],[3,12]])\n",
        "y = np.array([[2,9],[4,8]])"
      ],
      "metadata": {
        "id": "ARcfG03rSn8q"
      },
      "execution_count": 72,
      "outputs": []
    },
    {
      "cell_type": "code",
      "source": [
        "# Addition of two Arrays\n",
        "print(x + y)\n",
        "print(np.add(x, y))"
      ],
      "metadata": {
        "colab": {
          "base_uri": "https://localhost:8080/"
        },
        "id": "hzIXE2ZfSn6D",
        "outputId": "5e59d86e-9c5f-458e-843b-a0b3b02397b7"
      },
      "execution_count": 73,
      "outputs": [
        {
          "output_type": "stream",
          "name": "stdout",
          "text": [
            "[[ 7 11]\n",
            " [ 7 20]]\n",
            "[[ 7 11]\n",
            " [ 7 20]]\n"
          ]
        }
      ]
    },
    {
      "cell_type": "code",
      "source": [
        "# subtract of the elements\n",
        "print(x - y)\n",
        "print(np.subtract(x, y))\n",
        "\n",
        "#multiplication or  product\n",
        "print(x * y)\n",
        "print(np.multiply(x, y))\n",
        "\n",
        "#division\n",
        "print(x / y)\n",
        "print(np.divide(x, y))\n",
        "\n",
        "#square root\n",
        "print(np.sqrt(x))\n",
        "print(np.sqrt(y))"
      ],
      "metadata": {
        "colab": {
          "base_uri": "https://localhost:8080/"
        },
        "id": "nV9d9V1NSn3m",
        "outputId": "be3a6565-6cbf-4b25-d223-ff6a178c9883"
      },
      "execution_count": 74,
      "outputs": [
        {
          "output_type": "stream",
          "name": "stdout",
          "text": [
            "[[ 3 -7]\n",
            " [-1  4]]\n",
            "[[ 3 -7]\n",
            " [-1  4]]\n",
            "[[10 18]\n",
            " [12 96]]\n",
            "[[10 18]\n",
            " [12 96]]\n",
            "[[2.5        0.22222222]\n",
            " [0.75       1.5       ]]\n",
            "[[2.5        0.22222222]\n",
            " [0.75       1.5       ]]\n",
            "[[2.23606798 1.41421356]\n",
            " [1.73205081 3.46410162]]\n",
            "[[1.41421356 3.        ]\n",
            " [2.         2.82842712]]\n"
          ]
        }
      ]
    },
    {
      "cell_type": "markdown",
      "source": [
        "# NumPy Array Slicing\n",
        "\n",
        "   - Slicing in python means taking elements from one given index to another given index.\n",
        "\n",
        "   - We pass slice instead of index like this: [start:end].\n",
        "\n",
        "   - We can also define the step, like this: [start:end:step].\n",
        "\n",
        "   - If we don't pass start its considered 0\n",
        "\n",
        "   - If we don't pass end its considered length of array in that dimension\n",
        "\n",
        "   - If we don't pass step its considered 1"
      ],
      "metadata": {
        "id": "8R9ywO0TToyF"
      }
    },
    {
      "cell_type": "code",
      "source": [
        "import numpy as np\n",
        "\n",
        "arr = np.array([1, 2, 3, 4, 5, 6, 7])\n",
        "\n",
        "print(arr[0:4])"
      ],
      "metadata": {
        "colab": {
          "base_uri": "https://localhost:8080/"
        },
        "id": "26hi8XsiSn0r",
        "outputId": "4cf6eb68-c51a-47e0-e786-e62634830425"
      },
      "execution_count": 75,
      "outputs": [
        {
          "output_type": "stream",
          "name": "stdout",
          "text": [
            "[1 2 3 4]\n"
          ]
        }
      ]
    },
    {
      "cell_type": "code",
      "source": [
        "arr = np.array([1, 2, 3, 4, 5, 6, 7])\n",
        "\n",
        "print(arr[:-3])\n",
        "\n",
        "\n",
        "arr = np.array([1, 2, 3, 4, 5, 6, 7])\n",
        "\n",
        "print(arr[-4:-3])\n"
      ],
      "metadata": {
        "colab": {
          "base_uri": "https://localhost:8080/"
        },
        "id": "bTHd045YSnxs",
        "outputId": "5b3e3cc6-b75a-4038-fdd1-d74b8da04f6f"
      },
      "execution_count": 76,
      "outputs": [
        {
          "output_type": "stream",
          "name": "stdout",
          "text": [
            "[1 2 3 4]\n",
            "[4]\n"
          ]
        }
      ]
    },
    {
      "cell_type": "code",
      "source": [
        "# Slicing 2-D Arrays\n",
        "\n",
        "import numpy as np\n",
        "\n",
        "arr = np.array([[1, 2, 3, 4, 5],   #0\n",
        "                [6, 7, 8, 9, 10]])  #1\n",
        "\n",
        "print(arr[1, 1:4])"
      ],
      "metadata": {
        "colab": {
          "base_uri": "https://localhost:8080/"
        },
        "id": "_xl8UJyRSnuk",
        "outputId": "e12400fe-4b4c-4533-9fac-0a6df438a3c6"
      },
      "execution_count": 77,
      "outputs": [
        {
          "output_type": "stream",
          "name": "stdout",
          "text": [
            "[7 8 9]\n"
          ]
        }
      ]
    },
    {
      "cell_type": "code",
      "source": [
        "arr = np.array([[1, 2, 3, 4, 5],   #0\n",
        "\n",
        "                [6, 7, 8, 9, 10]])  #1\n",
        "\n",
        "print(arr[1:2, 1])"
      ],
      "metadata": {
        "colab": {
          "base_uri": "https://localhost:8080/"
        },
        "id": "-kPvxRi8UN03",
        "outputId": "0651af75-8587-47e6-f020-b7b4fea2775d"
      },
      "execution_count": 79,
      "outputs": [
        {
          "output_type": "stream",
          "name": "stdout",
          "text": [
            "[7]\n"
          ]
        }
      ]
    },
    {
      "cell_type": "code",
      "source": [
        "            #0  #1 #2\n",
        "a = np.array([[3, 4, 5],  #0\n",
        "              [5, 7, 8],  #1\n",
        "              [8, 9, 3],\n",
        "              [4,7,8]])\n",
        "print(a[2:3,1:3])\n"
      ],
      "metadata": {
        "colab": {
          "base_uri": "https://localhost:8080/"
        },
        "id": "rF7AXhzlUNxT",
        "outputId": "05c27bc2-e131-4abe-835c-877cda76f828"
      },
      "execution_count": 78,
      "outputs": [
        {
          "output_type": "stream",
          "name": "stdout",
          "text": [
            "[[9 3]]\n"
          ]
        }
      ]
    },
    {
      "cell_type": "code",
      "source": [
        "a = np.array([[13, 9, 35],  #0\n",
        "              [58, 74, 88],  #1\n",
        "              [88, 98, 3]]) #2\n",
        "print(a[1:3,1:2])"
      ],
      "metadata": {
        "colab": {
          "base_uri": "https://localhost:8080/"
        },
        "id": "H5OIQjGFUNuU",
        "outputId": "74db9af9-9ae7-44e5-be53-70531bd3fb49"
      },
      "execution_count": 80,
      "outputs": [
        {
          "output_type": "stream",
          "name": "stdout",
          "text": [
            "[[74]\n",
            " [98]]\n"
          ]
        }
      ]
    },
    {
      "cell_type": "code",
      "source": [
        "a = np.array([[[[13, 9, 35]]],  #0\n",
        "              [[[58, 74, 88]]],  #1\n",
        "              [[[88, 98, 3]]]]) #2\n",
        "print(a[0:1])"
      ],
      "metadata": {
        "id": "f1XA5nEZUkRY",
        "outputId": "c0f98fb4-5482-4208-9d24-30c570981233",
        "colab": {
          "base_uri": "https://localhost:8080/"
        }
      },
      "execution_count": 81,
      "outputs": [
        {
          "output_type": "stream",
          "name": "stdout",
          "text": [
            "[[[[13  9 35]]]]\n"
          ]
        }
      ]
    }
  ]
}